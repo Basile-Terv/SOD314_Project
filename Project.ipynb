{
 "cells": [
  {
   "cell_type": "code",
   "execution_count": 1,
   "metadata": {},
   "outputs": [],
   "source": [
    "import numpy as np\n",
    "import matplotlib.pyplot as plt\n",
    "import pickle\n",
    "import numpy.random as rd"
   ]
  },
  {
   "cell_type": "code",
   "execution_count": 17,
   "metadata": {},
   "outputs": [],
   "source": [
    "with open('first_database.pkl', 'rb') as f:\n",
    "    x,y = pickle.load(f)"
   ]
  },
  {
   "cell_type": "code",
   "execution_count": 19,
   "metadata": {},
   "outputs": [
    {
     "data": {
      "text/plain": [
       "[<matplotlib.lines.Line2D at 0x7fd82b3dbb50>]"
      ]
     },
     "execution_count": 19,
     "metadata": {},
     "output_type": "execute_result"
    },
    {
     "data": {
      "image/png": "[encoded data removed]",
      "text/plain": [
       "<Figure size 432x288 with 1 Axes>"
      ]
     },
     "metadata": {
      "needs_background": "light"
     },
     "output_type": "display_data"
    }
   ],
   "source": [
    "plt.plot(x,y, color='r')"
   ]
  },
  {
   "cell_type": "code",
   "execution_count": 40,
   "metadata": {},
   "outputs": [],
   "source": [
    "#Initialisation\n",
    "n = 100\n",
    "m = 10\n",
    "a = 5\n",
    "sel = [i for i in range(n)]\n",
    "ind = np.random.choice(sel, m, replace=False)\n",
    "x_selected = [x[i] for i in ind]\n",
    "y_selected = [y[i] for i in ind]"
   ]
  },
  {
   "cell_type": "code",
   "execution_count": 11,
   "metadata": {},
   "outputs": [],
   "source": [
    "def create_graph(size, number_edge):\n",
    "    if number_edge == 0:\n",
    "        graph = np.eye(size)\n",
    "        return graph\n",
    "    else: \n",
    "        graph = create_graph(size, number_edge - 1)\n",
    "        zeros_index = []\n",
    "        for i in range(size):\n",
    "            for j in range(i + 1, size):\n",
    "                if graph[i,j] == 0:\n",
    "                    zeros_index.append((i, j))\n",
    "        ind = rd.randint(0, len(zeros_index) - 1)\n",
    "        a,b = zeros_index[ind]\n",
    "        graph[a,b] = 1\n",
    "        graph[b,a] = 1\n",
    "        return graph\n",
    "        "
   ]
  },
  {
   "cell_type": "code",
   "execution_count": 14,
   "metadata": {},
   "outputs": [],
   "source": [
    "def euclidean_kernel(x, xi, k=1):\n",
    "    return np.exp(-k * np.linalg.norm(x - xi)**2)\n",
    "\n",
    "def compute_kernel_matrix(X, Y, k):\n",
    "    n = X.shape[0]\n",
    "    m = Y.shape[0]\n",
    "    K = np.zeros((n, m))\n",
    "    for i in range(n):\n",
    "        for j in range(m):\n",
    "            K[i, j] = euclidean_kernel(X[i], Y[j], k)\n",
    "    return K\n",
    "\n",
    "def compute_alpha_star(Kmm, Knm, y, sigma_squared, nu):\n",
    "    n = Knm.shape[0]\n",
    "    m = Kmm.shape[0]\n",
    "    A = sigma_squared * Kmm + np.dot(Knm.T, Knm) + nu * np.eye(m)\n",
    "    b = np.dot(Knm.T, y)\n",
    "    alpha_star = np.linalg.solve(A, b)\n",
    "    return alpha_star"
   ]
  },
  {
   "cell_type": "code",
   "execution_count": 15,
   "metadata": {},
   "outputs": [],
   "source": [
    "def objective_function(alpha, sigma_squared, K_mm, y, K_nm, nu):\n",
    "    term1 = (sigma_squared / 2) * np.dot(np.dot(alpha.T, K_mm), alpha)\n",
    "    term2 = (1 / 2) * np.linalg.norm(y - np.dot(K_nm, alpha))**2\n",
    "    term3 = (nu / 2) * np.linalg.norm(alpha)**2\n",
    "    return term1 + term2 + term3"
   ]
  },
  {
   "cell_type": "markdown",
   "metadata": {},
   "source": [
    "ADMM"
   ]
  },
  {
   "cell_type": "code",
   "execution_count": 44,
   "metadata": {},
   "outputs": [
    {
     "data": {
      "text/plain": [
       "(5, 5)"
      ]
     },
     "execution_count": 44,
     "metadata": {},
     "output_type": "execute_result"
    }
   ],
   "source": [
    "ex = create_graph(5,0)\n",
    "ex.shape"
   ]
  },
  {
   "cell_type": "code",
   "execution_count": 46,
   "metadata": {},
   "outputs": [
    {
     "data": {
      "text/plain": [
       "array([[1., 0., 0., 0., 0.],\n",
       "       [0., 1., 0., 0., 0.],\n",
       "       [0., 0., 1., 0., 0.],\n",
       "       [0., 0., 0., 1., 0.],\n",
       "       [0., 0., 0., 0., 1.]])"
      ]
     },
     "execution_count": 46,
     "metadata": {},
     "output_type": "execute_result"
    }
   ],
   "source": [
    "ex"
   ]
  },
  {
   "cell_type": "code",
   "execution_count": 30,
   "metadata": {},
   "outputs": [],
   "source": [
    "def create_line(m, pos, n):\n",
    "    return np.block([[np.eye(m) if i == pos else np.zeros((m,m)) for i in range(n)]])"
   ]
  },
  {
   "cell_type": "code",
   "execution_count": 48,
   "metadata": {},
   "outputs": [],
   "source": [
    "#ne sert probablement à rien \n",
    "\n",
    "def A_B(graph):\n",
    "    size = graph.shape[0]\n",
    "    compt = 0\n",
    "    for i in range(size):\n",
    "        for j in range(i+1, size):\n",
    "            if graph[i,j] == 1:\n",
    "                line_A1 = create_line(m, i, 5)\n",
    "                line_A2 = create_line(m, j, 5)\n",
    "                line_B = create_line(m, compt, 5)\n",
    "                if compt == 0:\n",
    "                    A = np.block([[line_A1], [line_A2]])\n",
    "                    B = np.block([[line_B], [line_B]])\n",
    "                    compt += 1\n",
    "                else:\n",
    "                    A = np.block([[A], [line_A1], [line_A2]])\n",
    "                    B = np.block([[B], [line_B], [line_B]])\n",
    "                    compt += 1\n",
    "    if compt == 0:\n",
    "        A = \n",
    "    return(A, B)"
   ]
  },
  {
   "cell_type": "code",
   "execution_count": 49,
   "metadata": {},
   "outputs": [
    {
     "ename": "UnboundLocalError",
     "evalue": "local variable 'A' referenced before assignment",
     "output_type": "error",
     "traceback": [
      "\u001b[0;31m---------------------------------------------------------------------------\u001b[0m",
      "\u001b[0;31mUnboundLocalError\u001b[0m                         Traceback (most recent call last)",
      "\u001b[0;32m/var/folders/l0/5qk3mw253y945myr_1tfc8z00000gn/T/ipykernel_6548/1470835866.py\u001b[0m in \u001b[0;36m<module>\u001b[0;34m\u001b[0m\n\u001b[0;32m----> 1\u001b[0;31m \u001b[0mA_B\u001b[0m\u001b[0;34m(\u001b[0m\u001b[0mex\u001b[0m\u001b[0;34m)\u001b[0m\u001b[0;34m\u001b[0m\u001b[0;34m\u001b[0m\u001b[0m\n\u001b[0m",
      "\u001b[0;32m/var/folders/l0/5qk3mw253y945myr_1tfc8z00000gn/T/ipykernel_6548/1097190707.py\u001b[0m in \u001b[0;36mA_B\u001b[0;34m(graph)\u001b[0m\n\u001b[1;32m     16\u001b[0m                     \u001b[0mB\u001b[0m \u001b[0;34m=\u001b[0m \u001b[0mnp\u001b[0m\u001b[0;34m.\u001b[0m\u001b[0mblock\u001b[0m\u001b[0;34m(\u001b[0m\u001b[0;34m[\u001b[0m\u001b[0;34m[\u001b[0m\u001b[0mB\u001b[0m\u001b[0;34m]\u001b[0m\u001b[0;34m,\u001b[0m \u001b[0;34m[\u001b[0m\u001b[0mline_B\u001b[0m\u001b[0;34m]\u001b[0m\u001b[0;34m,\u001b[0m \u001b[0;34m[\u001b[0m\u001b[0mline_B\u001b[0m\u001b[0;34m]\u001b[0m\u001b[0;34m]\u001b[0m\u001b[0;34m)\u001b[0m\u001b[0;34m\u001b[0m\u001b[0;34m\u001b[0m\u001b[0m\n\u001b[1;32m     17\u001b[0m                     \u001b[0mcompt\u001b[0m \u001b[0;34m+=\u001b[0m \u001b[0;36m1\u001b[0m\u001b[0;34m\u001b[0m\u001b[0;34m\u001b[0m\u001b[0m\n\u001b[0;32m---> 18\u001b[0;31m     \u001b[0;32mreturn\u001b[0m\u001b[0;34m(\u001b[0m\u001b[0mA\u001b[0m\u001b[0;34m,\u001b[0m \u001b[0mB\u001b[0m\u001b[0;34m)\u001b[0m\u001b[0;34m\u001b[0m\u001b[0;34m\u001b[0m\u001b[0m\n\u001b[0m",
      "\u001b[0;31mUnboundLocalError\u001b[0m: local variable 'A' referenced before assignment"
     ]
    }
   ],
   "source": [
    "A_B(ex)"
   ]
  }
 ],
 "metadata": {
  "kernelspec": {
   "display_name": "Python 3.9.7 ('base')",
   "language": "python",
   "name": "python3"
  },
  "language_info": {
   "codemirror_mode": {
    "name": "ipython",
    "version": 3
   },
   "file_extension": ".py",
   "mimetype": "text/x-python",
   "name": "python",
   "nbconvert_exporter": "python",
   "pygments_lexer": "ipython3",
   "version": "3.9.7"
  },
  "orig_nbformat": 4,
  "vscode": {
   "interpreter": {
    "hash": "cc7739b244f974916000a7d8eb95217d7b293019de62b65f8f3aaabbca2f3ce9"
   }
  }
 },
 "nbformat": 4,
 "nbformat_minor": 2
}
